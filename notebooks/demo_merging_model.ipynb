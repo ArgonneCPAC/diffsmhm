{
 "cells": [
  {
   "cell_type": "markdown",
   "id": "5160c16a",
   "metadata": {},
   "source": [
    "# Demo of differentiable model for galaxy merging\n",
    "\n",
    "The model in the `differentiable_smhm` repo is intended to be applied to a _complete_ catalog of subhalos, i.e., to a catalog of every subhalo that ever lived, including those that previously merged with their host halo. The idea behind this is twofold:\n",
    "1. It is somewhat ambiguous when a subhalo has actually merged with its host, and the details of when that happens depend sensitively upon the subhalo-finding algorithm.\n",
    "2. Even with perfect knowledge of when the subhalo merged, it is the time when the _satellite galaxy_ merges with its associated central that is what matters for predicting the observations, and the relationship between subhalo and galaxy merging is highly uncertain.\n",
    "\n",
    "Based on (1) & (2), we choose to parametrize the moment the galaxy merges, and to vary these parameters on an equal footing with the SMHM parameters. As with all ingredients in this modeling approach, this is done probabilistically. The quantity we actually parametrize is $P_{\\rm merge}(X_{\\rm halo}),$ the probability that a subhalo/galaxy with properties $X_{\\rm halo}$ has merged with its associated central. In the model, we _first_ map some value of $M_{\\star}$ onto every subhalo that has ever lived. And _then_ we map the quantity $P_{\\rm merge}$ onto every subhalo in the catalog. For satellites, we then transfer $P_{\\rm merge}\\cdot M_{\\star}$ into the associated central, so that the mass of the satellite ends up as $(1-P_{\\rm merge})\\cdot M_{\\star}.$ For centrals, $P_{\\rm merge}=0.$ \n",
    "\n",
    "Computationally, this mass transfer can actually be quite fast because we can precompute the _index_ into which each satellite will transfer some portion of its mass. This is straightforward for a single-redshift model like we are working on here, but for time-evolving models this will need to be generalized.\n",
    "\n",
    "The code in the `sigmoid_disruption` module controls the behavior of $P_{\\rm merge}(X_{\\rm halo})$ in terms of model parameters $\\theta_{\\rm merge},$ where $X_{\\rm halo} = \\{\\nu, M_{\\rm host}\\},$ where $\\nu\\equiv \\log_{10}V_{\\rm max}/V_{\\rm peak},$ the ratio of present-day circular velocity to its peak historical value, and $M_{\\rm host},$ the mass of the host halo. Physically, subhalos experience strong tidal forces as they orbit within the host halo, and these tidal forces eventually disrupt the subhalo and destroy the satellite at the center of the subhalo; thus $\\nu$ is a natural variable to consider as a proxy for the primary regulator of this process. We also know that satellite-specific processes vary with host halo mass, and so our parametrization allows $M_{\\rm host}$ to play an additional role.\n",
    "\n",
    "\n",
    "### Warmup exercises\n",
    "\n",
    "1. Fiddle around with the merging model parameters and remake the plot below to build intuition behind what each parameter does. It may be easier to dispense with the fancy color-coding and just make a simpler single-curve version. \n",
    "2. Check your intuitive understanding of the model parameters by reviewing the source code and ensuring that it makes good sense.\n",
    "\n",
    "Pay special attention to how the two sigmoid functions are stitched together to create the two-dimensional dependence. The basic idea is that we build our parametrization such that $P_{\\rm merge}$ has a simple sigmoid dependence upon $\\nu.$ That is, the \"first-order\" dependence of $P_{\\rm merge}$ looks like this:\n",
    "$$P_{\\rm merge}(\\nu) = p_{\\rm low} + \\frac{p_{\\rm high} - p_{\\rm low}}{1 + \\exp\\left[-k\\cdot(\\nu-\\nu_0)\\right]},$$\n",
    "where $p_{\\rm low}$ and $p_{\\rm high}$ control the asymptotic behavior of $P_{\\rm merge}.$ To capture the additional dependence upon $M_{\\rm host},$ we elevate the quantities $p_{\\rm low}$ and $p_{\\rm high}$ to themselves be functions of $M_{\\rm host}.$\n",
    "\n",
    "The way this works in the source code may not be immediately obvious, but this is important and is worth taking the time to understand in detail, because we will use these same techniques again and again as we continue to build models that capture multivariate dependencies. It may be useful to have a look at [this gist](https://gist.github.com/aphearin/526e8c67e7dd1ed1adeec52fef5b241e) to develop a thorough understanding of how the sigmoid-stitching technique works.\n",
    "    \n",
    "3. Once more practice making a few plots of the gradients of using `jax.grad`. Don't go overboard with this: by now this is really just for practice since you already studied the mechanics of `jax.grad` in the previous notebook."
   ]
  },
  {
   "cell_type": "code",
   "execution_count": 1,
   "id": "681e017d",
   "metadata": {},
   "outputs": [],
   "source": [
    "import matplotlib.cm as cm\n",
    "from matplotlib import lines as mlines\n",
    "from matplotlib import pyplot as plt\n",
    "import numpy as np"
   ]
  },
  {
   "cell_type": "code",
   "execution_count": 2,
   "id": "0c948c8b",
   "metadata": {},
   "outputs": [
    {
     "ename": "ModuleNotFoundError",
     "evalue": "No module named 'differentiable_smhm'",
     "output_type": "error",
     "traceback": [
      "\u001b[0;31m---------------------------------------------------------------------------\u001b[0m",
      "\u001b[0;31mModuleNotFoundError\u001b[0m                       Traceback (most recent call last)",
      "Cell \u001b[0;32mIn [2], line 1\u001b[0m\n\u001b[0;32m----> 1\u001b[0m \u001b[38;5;28;01mfrom\u001b[39;00m \u001b[38;5;21;01mdifferentiable_smhm\u001b[39;00m\u001b[38;5;21;01m.\u001b[39;00m\u001b[38;5;21;01mgalhalo_models\u001b[39;00m \u001b[38;5;28;01mimport\u001b[39;00m sigmoid_disruption\n",
      "\u001b[0;31mModuleNotFoundError\u001b[0m: No module named 'differentiable_smhm'"
     ]
    }
   ],
   "source": [
    "from differentiable_smhm.galhalo_models import sigmoid_disruption"
   ]
  },
  {
   "cell_type": "code",
   "execution_count": null,
   "id": "7ff43a1c",
   "metadata": {},
   "outputs": [],
   "source": [
    "n_colors = 500\n",
    "colors = cm.coolwarm(np.linspace(0, 1, n_colors)) # blue first\n",
    "n_h = 1_000\n",
    "zz = np.zeros(n_h)"
   ]
  },
  {
   "cell_type": "code",
   "execution_count": null,
   "id": "47881a93",
   "metadata": {},
   "outputs": [],
   "source": [
    "blue_line = mlines.Line2D([],[],ls='-', c=colors[0], label=r'$M_{\\rm host}=10^{12}M_{\\odot}$')\n",
    "red_line = mlines.Line2D([],[],ls='-', c=colors[-1], label=r'$M_{\\rm host}=10^{15}M_{\\odot}$')"
   ]
  },
  {
   "cell_type": "code",
   "execution_count": null,
   "id": "60d52baa",
   "metadata": {},
   "outputs": [],
   "source": [
    "log_vmax_by_vmpeak_arr = np.linspace(-2.5, 0, n_h)\n",
    "logmhost_plot = np.linspace(12, 15, n_colors)\n",
    "\n",
    "fig, ax = plt.subplots(1, 1)\n",
    "xscale = ax.set_xscale('log')\n",
    "ylim = ax.set_ylim(0.0, 1.02)\n",
    "xlim = ax.set_xlim(10**log_vmax_by_vmpeak_arr.min(), 1)\n",
    "\n",
    "for logmhost, c in zip(logmhost_plot, colors):\n",
    "    dprob = sigmoid_disruption.satellite_disruption_probability(log_vmax_by_vmpeak_arr, zz+logmhost)\n",
    "    __=ax.plot(10**log_vmax_by_vmpeak_arr, dprob, color=c)\n",
    "\n",
    "xlabel = ax.set_xlabel(r'$V_{\\rm max}/V_{\\rm peak}$')\n",
    "ylabel = ax.set_ylabel(r'$P_{\\rm merge}(V_{\\rm max}, V_{\\rm peak},M_{\\rm host})$')\n",
    "title = ax.set_title(r'${\\rm differentiable\\ merging\\ model}$')\n",
    "leg = ax.legend(handles=[red_line, blue_line], loc='center left')\n",
    "\n",
    "fig.savefig('dprob_sats_vs_vmax_ratio.png', bbox_extra_artists=[xlabel, ylabel], bbox_inches='tight', dpi=200) "
   ]
  },
  {
   "cell_type": "markdown",
   "id": "439af99e",
   "metadata": {},
   "source": [
    "### Not-so-warmup exercises\n",
    "\n",
    "Again let's apply this model to a catalog of simulated subhalo.\n",
    "\n",
    "1. Repeat the not-so-warmup exercise from the SMHM notebook, but extend your analysis to include the merging parameters.\n",
    "2. Now calculate a new quantity: $F_{\\rm ex-situ}(m_{\\star}),$ the _ex-situ fraction_ of central galaxies as a function of $m_{\\star}\\equiv\\log_{10}M_{\\star}.$ The ex-situ fraction in this context is defined as the fraction of the central's mass brought in by satellite mergers. Select some bins of $m_{\\star},$ and write a new JAX function that is differentiable with respect to the model parameters $\\theta_{\\rm merge}.$ Again make plots for each of your merging parameters, and verify that the gradients behave in accord with your understanding of the parameters."
   ]
  },
  {
   "cell_type": "code",
   "execution_count": null,
   "id": "d2ceaf4d",
   "metadata": {},
   "outputs": [],
   "source": []
  }
 ],
 "metadata": {
  "kernelspec": {
   "display_name": "Python 3 (ipykernel)",
   "language": "python",
   "name": "python3"
  },
  "language_info": {
   "codemirror_mode": {
    "name": "ipython",
    "version": 3
   },
   "file_extension": ".py",
   "mimetype": "text/x-python",
   "name": "python",
   "nbconvert_exporter": "python",
   "pygments_lexer": "ipython3",
   "version": "3.9.13"
  }
 },
 "nbformat": 4,
 "nbformat_minor": 5
}
