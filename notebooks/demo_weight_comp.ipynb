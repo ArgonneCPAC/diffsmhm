{
 "cells": [
  {
   "cell_type": "code",
   "execution_count": 11,
   "id": "d291dd71-e5dc-4277-a1b6-915f6060d8b7",
   "metadata": {},
   "outputs": [],
   "source": [
    "import numpy as np\n",
    "import jax\n",
    "import jax.numpy as jnp\n",
    "\n",
    "from collections import OrderedDict\n",
    "import h5py\n",
    "\n",
    "from diffsmhm.galhalo_models.sigmoid_smhm import (\n",
    "    logsm_from_logmhalo_jax,\n",
    "    DEFAULT_PARAM_VALUES as smhm_params\n",
    ")\n",
    "\n",
    "from diffsmhm.galhalo_models.sigmoid_smhm_sigma import (\n",
    "    logsm_sigma_from_logmhalo_jax,\n",
    "    DEFAULT_PARAM_VALUES as smhm_sigma_params\n",
    ")\n",
    "\n",
    "from diffsmhm.diff_stats.cpu.tw_kernels import (                                \n",
    "    tw_kern_mstar_bin_weights_and_derivs_cpu                                    \n",
    ")   "
   ]
  },
  {
   "cell_type": "markdown",
   "id": "ba4edc75-737a-4f41-9085-a5154349ddf5",
   "metadata": {},
   "source": [
    "## About this Notebook\n",
    "\n",
    "Demonstration of our use of jax to produce a weight for each object.\n",
    "Note that this notebook uses a simplified model to make mock data generation easier."
   ]
  },
  {
   "cell_type": "code",
   "execution_count": 34,
   "id": "f59d5275-0d7a-4b0e-8113-6fc33c2b06ab",
   "metadata": {},
   "outputs": [],
   "source": [
    "# generate data\n",
    "np.random.seed(42)\n",
    "\n",
    "loghalomass = np.random.uniform(8.0, 16.0, size=1000)\n",
    "\n",
    "# munge params\n",
    "smhm_params_array = np.array(list(smhm_params.values()), dtype=np.float32)\n",
    "smhm_sigma_params_array = np.array(list(smhm_params.values()), dtype=np.float32)\n",
    "\n",
    "# define grads with jax\n",
    "stellar_mass_jac = jax.jacfwd(logsm_from_logmhalo_jax, argnums=1)\n",
    "stellar_mass_sigma_jac = jax.jacfwd(logsm_sigma_from_logmhalo_jax, argnums=1)"
   ]
  },
  {
   "cell_type": "code",
   "execution_count": 45,
   "id": "79e5dea1-3d63-4186-839b-b3cfcdefda85",
   "metadata": {},
   "outputs": [],
   "source": [
    "# compute mean and sigma\n",
    "stellar_mass = np.array(logsm_from_logmhalo_jax(loghalomass, smhm_params_array), dtype=np.float32)\n",
    "stellar_mass_sigma = np.array(logsm_sigma_from_logmhalo_jax(loghalomass, smhm_sigma_params_array), dtype=np.float32)\n",
    "\n",
    "# compute gradients\n",
    "stellar_mass_grad = np.array(stellar_mass_jac(loghalomass, smhm_params_array), dtype=np.float32).T\n",
    "stellar_mass_sigma_grad = np.array(stellar_mass_sigma_jac(loghalomass, smhm_sigma_params_array), dtype=np.float32).T"
   ]
  },
  {
   "cell_type": "code",
   "execution_count": 46,
   "id": "63f6bb61-af67-445b-bcda-8b3d1b5f945a",
   "metadata": {},
   "outputs": [],
   "source": [
    "# compute weight\n",
    "w = np.zeros(len(loghalomass), dtype=np.float32)\n",
    "dw = np.zeros((stellar_mass_grad.shape[0], len(loghalomass)), dtype=np.float32)\n",
    "\n",
    "mass_bin_edges = np.array([9.0, 10.0], dtype=np.float32)\n",
    "\n",
    "tw_kern_mstar_bin_weights_and_derivs_cpu(\n",
    "    stellar_mass,\n",
    "    stellar_mass_grad,\n",
    "    stellar_mass_sigma,\n",
    "    stellar_mass_sigma_grad,\n",
    "    mass_bin_edges[0], mass_bin_edges[1],\n",
    "    w,\n",
    "    dw\n",
    ")"
   ]
  },
  {
   "cell_type": "code",
   "execution_count": null,
   "id": "8492b5a8-41c4-41bb-aedb-9ce1c994c7f9",
   "metadata": {},
   "outputs": [],
   "source": []
  }
 ],
 "metadata": {
  "kernelspec": {
   "display_name": "Python 3 (ipykernel)",
   "language": "python",
   "name": "python3"
  },
  "language_info": {
   "codemirror_mode": {
    "name": "ipython",
    "version": 3
   },
   "file_extension": ".py",
   "mimetype": "text/x-python",
   "name": "python",
   "nbconvert_exporter": "python",
   "pygments_lexer": "ipython3",
   "version": "3.11.7"
  }
 },
 "nbformat": 4,
 "nbformat_minor": 5
}
